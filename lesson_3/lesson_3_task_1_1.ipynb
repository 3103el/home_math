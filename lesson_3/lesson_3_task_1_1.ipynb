{
 "cells": [
  {
   "cell_type": "code",
   "execution_count": 1,
   "id": "0a7f4d81",
   "metadata": {},
   "outputs": [],
   "source": [
    "import numpy as np\n",
    "import matplotlib.pyplot as plt"
   ]
  },
  {
   "cell_type": "code",
   "execution_count": 3,
   "id": "81f7e882",
   "metadata": {},
   "outputs": [
    {
     "name": "stdout",
     "output_type": "stream",
     "text": [
      "14.142135623730951\n"
     ]
    }
   ],
   "source": [
    "p1 = np.array([10,10,10])\n",
    "p2 = np.array([0,0,-10])\n",
    "squared_dlin = np.sum((p1+p2)**2, axis=0)\n",
    "dlin = np.sqrt(squared_dlin)\n",
    "print(dlin)"
   ]
  },
  {
   "cell_type": "code",
   "execution_count": 3,
   "id": "5a189e5f",
   "metadata": {},
   "outputs": [
    {
     "name": "stdout",
     "output_type": "stream",
     "text": [
      "Искомый вектор: [10, 10, 0]\n"
     ]
    }
   ],
   "source": [
    "vec1 = [10,10,10]\n",
    "vec2 = [0,0,-10]\n",
    "\n",
    "def VectorGet(v1, v2):\n",
    "    result = []\n",
    "    for i in range(v1.__len__()):\n",
    "        result.append(v2[i]+v1[i]);\n",
    "    return result;\n",
    "\n",
    "def LengthGet(v):\n",
    "    sum = 0\n",
    "    for i in v:\n",
    "        sum = sum + i*i;\n",
    "    return (math.sqrt(sum))\n",
    "\n",
    "vec3 = VectorGet(vec1,vec2);\n",
    "print(\"Искомый вектор:\",vec3)\n"
   ]
  },
  {
   "cell_type": "code",
   "execution_count": null,
   "id": "fbccf898",
   "metadata": {},
   "outputs": [],
   "source": []
  }
 ],
 "metadata": {
  "kernelspec": {
   "display_name": "Python 3 (ipykernel)",
   "language": "python",
   "name": "python3"
  },
  "language_info": {
   "codemirror_mode": {
    "name": "ipython",
    "version": 3
   },
   "file_extension": ".py",
   "mimetype": "text/x-python",
   "name": "python",
   "nbconvert_exporter": "python",
   "pygments_lexer": "ipython3",
   "version": "3.9.7"
  }
 },
 "nbformat": 4,
 "nbformat_minor": 5
}
