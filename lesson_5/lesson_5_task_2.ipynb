{
 "cells": [
  {
   "cell_type": "code",
   "execution_count": 21,
   "id": "9350a395",
   "metadata": {},
   "outputs": [],
   "source": [
    "import numpy as np\n",
    "import matplotlib.pyplot as plt\n",
    "import matplotlib.mlab as mlab"
   ]
  },
  {
   "cell_type": "code",
   "execution_count": 22,
   "id": "45a08fdf",
   "metadata": {
    "scrolled": true
   },
   "outputs": [
    {
     "name": "stdout",
     "output_type": "stream",
     "text": [
      "Решка\n",
      "Орел\n",
      "Решка\n",
      "Орел\n",
      "Орел\n",
      "3 2\n"
     ]
    }
   ],
   "source": [
    "import random\n",
    "\n",
    "k = 0\n",
    "m = 0\n",
    "n = 5\n",
    "for i in range(0, n):\n",
    "    mon = np.random.uniform(0, 5)\n",
    "    if mon < 3:\n",
    "        k += 1\n",
    "        print(\"Орел\")\n",
    "        \n",
    "    else:\n",
    "        print(\"Решка\")\n",
    "        m += 1\n",
    "        \n",
    "print(k,m)"
   ]
  },
  {
   "cell_type": "code",
   "execution_count": 23,
   "id": "5c2e736b",
   "metadata": {},
   "outputs": [
    {
     "name": "stdout",
     "output_type": "stream",
     "text": [
      "[array([0.63921938, 0.39872181, 0.92868534, 0.86979709, 0.85523093]), array([0.18522715, 0.09205989, 0.4335909 , 0.07582606, 0.03065322]), array([0.97402832, 0.59452689, 0.3838438 , 0.10921053, 0.31554812]), array([0.67360097, 0.25016872, 0.97139951, 0.8031641 , 0.83691557]), array([0.51758729, 0.29845665, 0.03055182, 0.41138007, 0.59968902]), array([0.74855109, 0.56494625, 0.69577853, 0.96310514, 0.81991806]), array([0.27125845, 0.36767362, 0.03410917, 0.1000437 , 0.47529234]), array([0.71787912, 0.32578143, 0.68089239, 0.87271067, 0.86450567]), array([0.5965129 , 0.28285731, 0.17933851, 0.04879806, 0.48500362]), array([0.07362525, 0.38771973, 0.38554262, 0.9511106 , 0.13757668])]\n",
      "[5.39748991 3.56291232 4.7237326  5.20514602 5.42033323]\n"
     ]
    },
    {
     "data": {
      "image/png": "[encoded data removed]",
      "text/plain": [
       "<Figure size 432x288 with 1 Axes>"
      ]
     },
     "metadata": {
      "needs_background": "light"
     },
     "output_type": "display_data"
    }
   ],
   "source": [
    "x = []     \n",
    "sum = []   \n",
    "for i in range (0,10):\n",
    "    sum.append(0)\n",
    "    x.append(np.random.rand(5))  \n",
    "   \n",
    "print(x)\n",
    "sum = x[0]+x[1]+x[2]+x[3]+x[4]+x[5]+x[6]+x[7]+x[8]+x[9]\n",
    "print (sum)\n",
    "\n",
    "num_bins = 7\n",
    "n, bins, patches = plt.hist(sum, num_bins)\n",
    "plt.xlabel('sum')\n",
    "plt.ylabel('Probability')\n",
    "plt.title('Histogram')\n",
    "plt.show() "
   ]
  },
  {
   "cell_type": "code",
   "execution_count": null,
   "id": "5b7e17c8",
   "metadata": {},
   "outputs": [],
   "source": []
  }
 ],
 "metadata": {
  "kernelspec": {
   "display_name": "Python 3 (ipykernel)",
   "language": "python",
   "name": "python3"
  },
  "language_info": {
   "codemirror_mode": {
    "name": "ipython",
    "version": 3
   },
   "file_extension": ".py",
   "mimetype": "text/x-python",
   "name": "python",
   "nbconvert_exporter": "python",
   "pygments_lexer": "ipython3",
   "version": "3.9.7"
  }
 },
 "nbformat": 4,
 "nbformat_minor": 5
}
