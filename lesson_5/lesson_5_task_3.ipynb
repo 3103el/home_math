{
 "cells": [
  {
   "cell_type": "code",
   "execution_count": null,
   "id": "88f8e5af",
   "metadata": {},
   "outputs": [],
   "source": [
    "import numpy as np, math\n",
    "\n",
    "    k = 0\n",
    "    a = np.random.randint(0,2 ,n)\n",
    "    b = np.random.randint(0,2 ,n)\n",
    "    c = np.random.randint(0,2 ,n)\n",
    "    d = np.random.randint(0,2 ,n)\n",
    "    x = a + b + c + d\n",
    "\n",
    "    for i in range(0,n):\n",
    "        if x[i] == kk:   #оценивается вероятность равного выпадения орлов и решек на ЧЕТЫРЕХ испытаниях, т.е. 2 раза Орел и 2 раза Решка\n",
    "            k = k + 1\n",
    "    print (\"Вероятность по Монте-Карло:\", k, n, k/n)\n",
    "\n",
    "def Bernulli(n,k):\n",
    "    C_n_k = math.factorial(n)/(math.factorial(k)*math.factorial(n-k))\n",
    "    P_n_k = C_n_k * 1/2**n\n",
    "    print(\"Вероятность по Бернулли:\", P_n_k)\n",
    "    return P_n_k\n",
    "#1\n",
    "print(\"Задание 1:\")\n",
    "Monte_Karlo(2,5000)\n",
    "Bernulli(4,2)\n",
    "\n",
    "#2 Повторите расчеты биномиальных коэффициентов и вероятностей k успехов в последовательности из n независимых испытаний, взяв другие значения n и k.\n",
    "print(\"Задание 2:\")\n",
    "Bernulli(5,3)"
   ]
  }
 ],
 "metadata": {
  "kernelspec": {
   "display_name": "Python 3 (ipykernel)",
   "language": "python",
   "name": "python3"
  },
  "language_info": {
   "codemirror_mode": {
    "name": "ipython",
    "version": 3
   },
   "file_extension": ".py",
   "mimetype": "text/x-python",
   "name": "python",
   "nbconvert_exporter": "python",
   "pygments_lexer": "ipython3",
   "version": "3.9.7"
  }
 },
 "nbformat": 4,
 "nbformat_minor": 5
}
