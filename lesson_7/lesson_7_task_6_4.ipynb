{
 "cells": [
  {
   "cell_type": "code",
   "execution_count": 1,
   "id": "4b5e9aad",
   "metadata": {},
   "outputs": [
    {
     "name": "stdout",
     "output_type": "stream",
     "text": [
      "[[0. 1. 0.]\n",
      " [0. 0. 1.]\n",
      " [1. 0. 0.]]\n",
      "[[ 1.    0.    0.  ]\n",
      " [ 0.25  1.    0.  ]\n",
      " [ 0.5  -0.4   1.  ]]\n",
      "[[  4.    28.    73.  ]\n",
      " [  0.    -5.   -15.25]\n",
      " [  0.     0.   -21.6 ]]\n",
      "[[ -2. -12. -52.]\n",
      " [  3.  26.  70.]\n",
      " [ -1. -14. -18.]]\n",
      "A = L*U\n",
      "[[ 4. 28. 73.]\n",
      " [ 1.  2.  3.]\n",
      " [ 2. 16. 21.]]\n",
      "Прилумаем вектор правых частей B и решим систему A*X = B:\n",
      "[12  2  1]\n",
      "Решение системы:\n",
      "[15.81018519 -1.47453704 -0.28703704]\n"
     ]
    }
   ],
   "source": [
    "import numpy as np\n",
    "import scipy.linalg as sc\n",
    "\n",
    "A = np.array([[1,2,3],[2,16,21],[4,28,73]])\n",
    "P, L, U = sc.lu(A)\n",
    "\n",
    "print(P)\n",
    "print(L)\n",
    "print(U)\n",
    "\n",
    "print(np.dot(P, A) - np.dot(L,U))\n",
    "\n",
    "print(\"A = L*U\")\n",
    "print(np.dot(L,U))\n",
    "print(\"Прилумаем вектор правых частей B и решим систему A*X = B:\")\n",
    "B = np.array([12,2,1])\n",
    "print(B)\n",
    "print(\"Решение системы:\")\n",
    "print(np.linalg.solve(A,B))"
   ]
  },
  {
   "cell_type": "code",
   "execution_count": null,
   "id": "e748ebca",
   "metadata": {},
   "outputs": [],
   "source": []
  }
 ],
 "metadata": {
  "kernelspec": {
   "display_name": "Python 3 (ipykernel)",
   "language": "python",
   "name": "python3"
  },
  "language_info": {
   "codemirror_mode": {
    "name": "ipython",
    "version": 3
   },
   "file_extension": ".py",
   "mimetype": "text/x-python",
   "name": "python",
   "nbconvert_exporter": "python",
   "pygments_lexer": "ipython3",
   "version": "3.9.7"
  }
 },
 "nbformat": 4,
 "nbformat_minor": 5
}
