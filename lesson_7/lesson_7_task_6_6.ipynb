{
 "cells": [
  {
   "cell_type": "code",
   "execution_count": 4,
   "id": "660f7ac2",
   "metadata": {},
   "outputs": [
    {
     "name": "stdout",
     "output_type": "stream",
     "text": [
      "Матрица A =\n",
      "[[1 2 3]\n",
      " [4 5 6]\n",
      " [7 8 9]]\n",
      "Определитель матрицы A = 6.66133814775094e-16\n",
      "Ранг матрицы А =  2\n",
      "Расширенная матрица C = \n",
      "[[ 1  2  3  2]\n",
      " [ 4  5  6  5]\n",
      " [ 7  8  9 11]]\n",
      "Ранг матрицы C =  3\n",
      "Изменим вектор правой части B так, чтобы система стала совместной\n",
      "Ранг расширенной матрицы C1 =  2\n",
      "Решение системы A*X = B1 :\n",
      "[-18.  27.  -8.]\n"
     ]
    }
   ],
   "source": [
    "import numpy as np\n",
    "\n",
    "A = np.array([[1,2,3],[4,5,6],[7,8,9]])\n",
    "B = np.array([[2,5,11]])\n",
    "print(\"Матрица A =\")\n",
    "print(A)\n",
    "print(\"Определитель матрицы A =\", np.linalg.det(A))\n",
    "print(\"Ранг матрицы А = \", np.linalg.matrix_rank(A,0.0001))\n",
    "\n",
    "C = np.concatenate((A,B.T), axis=1)\n",
    "print(\"Расширенная матрица C = \")\n",
    "print(C)\n",
    "print(\"Ранг матрицы C = \", np.linalg.matrix_rank(C,0.0001))\n",
    "\n",
    "print(\"Изменим вектор правой части B так, чтобы система стала совместной\")\n",
    "B1 = np.array([[12,15,18]])\n",
    "C1 = np.concatenate((A,B1.T), axis=1)\n",
    "print(\"Ранг расширенной матрицы C1 = \", np.linalg.matrix_rank(C1,0.0001))\n",
    "\n",
    "\n",
    "print(\"Решение системы A*X = B1 :\")\n",
    "result = np.linalg.solve(A,np.array([12,15,18]))\n",
    "print(result)"
   ]
  },
  {
   "cell_type": "code",
   "execution_count": null,
   "id": "d46e2b85",
   "metadata": {},
   "outputs": [],
   "source": []
  }
 ],
 "metadata": {
  "kernelspec": {
   "display_name": "Python 3 (ipykernel)",
   "language": "python",
   "name": "python3"
  },
  "language_info": {
   "codemirror_mode": {
    "name": "ipython",
    "version": 3
   },
   "file_extension": ".py",
   "mimetype": "text/x-python",
   "name": "python",
   "nbconvert_exporter": "python",
   "pygments_lexer": "ipython3",
   "version": "3.9.7"
  }
 },
 "nbformat": 4,
 "nbformat_minor": 5
}
