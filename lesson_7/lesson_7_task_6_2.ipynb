{
 "cells": [
  {
   "cell_type": "code",
   "execution_count": 1,
   "id": "41662f39",
   "metadata": {},
   "outputs": [
    {
     "name": "stdout",
     "output_type": "stream",
     "text": [
      "(array([ 1.13919353, -0.90498444, -0.9009803 ]), array([0.71523211]), 3, array([15.2817306 ,  9.59852942,  3.65197794]))\n",
      "Проверка:\n",
      "[ 0.23020495  7.03751835 11.83650984  6.78328856 15.21805317]\n"
     ]
    },
    {
     "name": "stderr",
     "output_type": "stream",
     "text": [
      "C:\\Users\\Eleanor\\AppData\\Local\\Temp/ipykernel_6140/3627163020.py:5: FutureWarning: `rcond` parameter will change to the default of machine precision times ``max(M, N)`` where M and N are the input matrix dimensions.\n",
      "To use the future default and silence this warning we advise to pass `rcond=None`, to keep using the old, explicitly pass `rcond=-1`.\n",
      "  print(np.linalg.lstsq(A, B))\n"
     ]
    }
   ],
   "source": [
    "import numpy as np\n",
    "\n",
    "A = np.array([[1,2,-1], [3,-4,0], [8,-5,2], [2,0,-5], [11,4,-7]])\n",
    "B = np.array([1, 7, 12, 7, 15])\n",
    "print(np.linalg.lstsq(A, B))\n",
    "\n",
    "print(\"Проверка:\")\n",
    "print(np.dot(A,[1.13919353,-0.90498444,-0.9009803]))"
   ]
  },
  {
   "cell_type": "code",
   "execution_count": null,
   "id": "8b610189",
   "metadata": {},
   "outputs": [],
   "source": []
  }
 ],
 "metadata": {
  "kernelspec": {
   "display_name": "Python 3 (ipykernel)",
   "language": "python",
   "name": "python3"
  },
  "language_info": {
   "codemirror_mode": {
    "name": "ipython",
    "version": 3
   },
   "file_extension": ".py",
   "mimetype": "text/x-python",
   "name": "python",
   "nbconvert_exporter": "python",
   "pygments_lexer": "ipython3",
   "version": "3.9.7"
  }
 },
 "nbformat": 4,
 "nbformat_minor": 5
}
