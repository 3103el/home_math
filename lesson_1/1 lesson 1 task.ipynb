{
 "cells": [
  {
   "cell_type": "code",
   "execution_count": 6,
   "id": "42715947",
   "metadata": {},
   "outputs": [],
   "source": [
    "import numpy as np\n",
    "\n",
    "a = np.array([[5, 10],\n",
    "              [7, 12],\n",
    "             [11.3, 5],\n",
    "             [25, 30]])"
   ]
  },
  {
   "cell_type": "code",
   "execution_count": 7,
   "id": "c12974d4",
   "metadata": {},
   "outputs": [
    {
     "name": "stdout",
     "output_type": "stream",
     "text": [
      "[[ 45.   90. ]\n",
      " [ 63.  108. ]\n",
      " [101.7  45. ]\n",
      " [225.  270. ]]\n"
     ]
    }
   ],
   "source": [
    "output = 7*a + 2*a\n",
    "print (output)"
   ]
  },
  {
   "cell_type": "code",
   "execution_count": null,
   "id": "d7757b6e",
   "metadata": {},
   "outputs": [],
   "source": []
  }
 ],
 "metadata": {
  "kernelspec": {
   "display_name": "Python 3 (ipykernel)",
   "language": "python",
   "name": "python3"
  },
  "language_info": {
   "codemirror_mode": {
    "name": "ipython",
    "version": 3
   },
   "file_extension": ".py",
   "mimetype": "text/x-python",
   "name": "python",
   "nbconvert_exporter": "python",
   "pygments_lexer": "ipython3",
   "version": "3.9.7"
  }
 },
 "nbformat": 4,
 "nbformat_minor": 5
}
